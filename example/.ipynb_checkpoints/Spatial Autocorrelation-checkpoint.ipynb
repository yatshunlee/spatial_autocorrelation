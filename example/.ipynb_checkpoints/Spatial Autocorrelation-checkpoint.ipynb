{
 "cells": [
  {
   "cell_type": "code",
   "execution_count": 2,
   "metadata": {},
   "outputs": [
    {
     "name": "stdout",
     "output_type": "stream",
     "text": [
      "Collecting spatial_autocorrelation\n",
      "  Downloading spatial_autocorrelation-0.0.1a0.tar.gz (9.7 kB)\n",
      "Requirement already satisfied: requests in c:\\users\\jasper\\anaconda3\\lib\\site-packages (from spatial_autocorrelation) (2.24.0)\n",
      "Requirement already satisfied: certifi>=2017.4.17 in c:\\users\\jasper\\anaconda3\\lib\\site-packages (from requests->spatial_autocorrelation) (2021.10.8)\n",
      "Requirement already satisfied: urllib3!=1.25.0,!=1.25.1,<1.26,>=1.21.1 in c:\\users\\jasper\\anaconda3\\lib\\site-packages (from requests->spatial_autocorrelation) (1.25.11)\n",
      "Requirement already satisfied: chardet<4,>=3.0.2 in c:\\users\\jasper\\anaconda3\\lib\\site-packages (from requests->spatial_autocorrelation) (3.0.4)\n",
      "Requirement already satisfied: idna<3,>=2.5 in c:\\users\\jasper\\anaconda3\\lib\\site-packages (from requests->spatial_autocorrelation) (2.10)\n",
      "Building wheels for collected packages: spatial-autocorrelation\n",
      "  Building wheel for spatial-autocorrelation (setup.py): started\n",
      "  Building wheel for spatial-autocorrelation (setup.py): finished with status 'done'\n",
      "  Created wheel for spatial-autocorrelation: filename=spatial_autocorrelation-0.0.1a0-py3-none-any.whl size=5683 sha256=2f921195ff2a0012cb92b20a68bcc90f85ec036da4422d89329743db8730812b\n",
      "  Stored in directory: c:\\users\\jasper\\appdata\\local\\pip\\cache\\wheels\\37\\ea\\14\\bc2bb8dd8c381c869961a54976ba75955ed3a848b786128db2\n",
      "Successfully built spatial-autocorrelation\n",
      "Installing collected packages: spatial-autocorrelation\n",
      "Successfully installed spatial-autocorrelation-0.0.1a0\n"
     ]
    }
   ],
   "source": [
    "!pip install spatial_autocorrelation"
   ]
  },
  {
   "cell_type": "code",
   "execution_count": 5,
   "metadata": {},
   "outputs": [],
   "source": [
    "import numpy as np\n",
    "import pandas as pd\n",
    "import matplotlib.pyplot as plt\n",
    "\n",
    "# Global Spatial Autocorrelation\n",
    "from spatial_autocorrelation import get_moransI, moransI_scatterplot, hypothesis_testing\n",
    "# Local Spatial Autocorrelation\n",
    "from spatial_autocorrelation import get_localMoransI, LISA_scatterplot"
   ]
  },
  {
   "cell_type": "markdown",
   "metadata": {},
   "source": [
    "# Global Spatial Autocorrelation\n",
    "### Demo: Perfectly Clustered (Moran's I = 1)\n",
    "- Each tile represents a location\n",
    "- Black = 0 and White = 1\n",
    "- Only considering the tiles are topologically related when they are above, below, on the left or right hand side of the tile"
   ]
  },
  {
   "cell_type": "code",
   "execution_count": 139,
   "metadata": {},
   "outputs": [
    {
     "data": {
      "text/plain": [
       "<matplotlib.image.AxesImage at 0x22b79b7c8b0>"
      ]
     },
     "execution_count": 139,
     "metadata": {},
     "output_type": "execute_result"
    },
    {
     "data": {
      "image/png": "[encoded data removed]",
      "text/plain": [
       "<Figure size 720x720 with 1 Axes>"
      ]
     },
     "metadata": {
      "needs_background": "light"
     },
     "output_type": "display_data"
    }
   ],
   "source": [
    "# clustered \n",
    "n = 100\n",
    "\n",
    "y = np.zeros((n,n))\n",
    "y[:,n//2:] = 1\n",
    "y = y.reshape(-1)\n",
    "\n",
    "plt.figure(figsize=(10,10))\n",
    "plt.imshow(y.reshape(n,n), cmap='Greys',  interpolation='nearest')"
   ]
  },
  {
   "cell_type": "markdown",
   "metadata": {},
   "source": [
    "### Define a spatial weighted matrix"
   ]
  },
  {
   "cell_type": "code",
   "execution_count": 140,
   "metadata": {},
   "outputs": [],
   "source": [
    "# each inner array represents the topogical relationship of a tile to the neighbouring tiles\n",
    "# Only considering the tiles are topologically related \n",
    "# when they are above, below, on the left or right hand side of the tile\n",
    "\n",
    "W = []\n",
    "\n",
    "for i in range(n):\n",
    "    for j in range(n):\n",
    "        \n",
    "        tmp_W = np.zeros((n,n))\n",
    "\n",
    "        if (j >= 1): tmp_W[i][j-1] = 1\n",
    "        if (j < n-1): tmp_W[i][j+1] = 2\n",
    "        if (i >= 1): tmp_W[i-1][j] = 3\n",
    "        if (i < n-1): tmp_W[i+1][j] = 4\n",
    "        \n",
    "        W.append(tmp_W.reshape(-1))\n",
    "\n",
    "W = np.array(W)"
   ]
  },
  {
   "cell_type": "code",
   "execution_count": 142,
   "metadata": {
    "scrolled": false
   },
   "outputs": [
    {
     "name": "stdout",
     "output_type": "stream",
     "text": [
      "The expected value of Moran's I: -0.00010001000100010001\n",
      "The variance of Moran's I: 5.857745665151386e-05\n",
      "Z score of Moran's I: 129.8788225873467\n"
     ]
    },
    {
     "data": {
      "image/png": "[encoded data removed]",
      "text/plain": [
       "<Figure size 432x288 with 1 Axes>"
      ]
     },
     "metadata": {
      "needs_background": "light"
     },
     "output_type": "display_data"
    }
   ],
   "source": [
    "moransI = get_moransI(W,y)\n",
    "hypothesis_testing(moransI, W, y)\n",
    "moransI_scatterplot(moransI, W, y)"
   ]
  },
  {
   "cell_type": "markdown",
   "metadata": {},
   "source": [
    "### Demo: Random (Moran's I = 0)"
   ]
  },
  {
   "cell_type": "code",
   "execution_count": 6,
   "metadata": {},
   "outputs": [
    {
     "data": {
      "text/plain": [
       "<matplotlib.image.AxesImage at 0x14c799c7c70>"
      ]
     },
     "execution_count": 6,
     "metadata": {},
     "output_type": "execute_result"
    },
    {
     "data": {
      "image/png": "[encoded data removed]",
      "text/plain": [
       "<Figure size 360x360 with 1 Axes>"
      ]
     },
     "metadata": {
      "needs_background": "light"
     },
     "output_type": "display_data"
    }
   ],
   "source": [
    "n = 10\n",
    "y = np.random.randint(0,2,n*n)\n",
    "\n",
    "plt.figure(figsize=(5,5))\n",
    "plt.imshow(y.reshape(n,n), cmap='Greys',  interpolation='nearest')"
   ]
  },
  {
   "cell_type": "code",
   "execution_count": 7,
   "metadata": {},
   "outputs": [],
   "source": [
    "# each inner array represents the topogical relationship of a tile to the neighbouring tiles\n",
    "# Only considering the tiles are topologically related \n",
    "# when they are above, below, on the left or right hand side of the tile\n",
    "\n",
    "W = []\n",
    "\n",
    "for i in range(n):\n",
    "    for j in range(n):\n",
    "        \n",
    "        tmp_W = np.zeros((n,n))\n",
    "\n",
    "        if (j >= 1): tmp_W[i][j-1] = 1\n",
    "        if (j < n-1): tmp_W[i][j+1] = 2\n",
    "        if (i >= 1): tmp_W[i-1][j] = 3\n",
    "        if (i < n-1): tmp_W[i+1][j] = 4\n",
    "        \n",
    "        W.append(tmp_W.reshape(-1))\n",
    "\n",
    "W = np.array(W)"
   ]
  },
  {
   "cell_type": "code",
   "execution_count": 8,
   "metadata": {},
   "outputs": [
    {
     "name": "stdout",
     "output_type": "stream",
     "text": [
      "The expected value of Moran's I: -0.010101010101010102\n",
      "The variance of Moran's I: 0.006358553543113923\n",
      "Z score of Moran's I: -0.9044484888020863\n"
     ]
    },
    {
     "data": {
      "image/png": "[encoded data removed]",
      "text/plain": [
       "<Figure size 432x288 with 1 Axes>"
      ]
     },
     "metadata": {
      "needs_background": "light"
     },
     "output_type": "display_data"
    }
   ],
   "source": [
    "moransI = get_moransI(W,y)\n",
    "hypothesis_testing(moransI, W, y)\n",
    "moransI_scatterplot(moransI, W, y)"
   ]
  },
  {
   "cell_type": "markdown",
   "metadata": {},
   "source": [
    "### Demo: Perfectly Dispersed (Moran's I = -1)"
   ]
  },
  {
   "cell_type": "code",
   "execution_count": 9,
   "metadata": {},
   "outputs": [
    {
     "data": {
      "text/plain": [
       "<matplotlib.image.AxesImage at 0x14c79b3f3d0>"
      ]
     },
     "execution_count": 9,
     "metadata": {},
     "output_type": "execute_result"
    },
    {
     "data": {
      "image/png": "[encoded data removed]",
      "text/plain": [
       "<Figure size 360x360 with 1 Axes>"
      ]
     },
     "metadata": {
      "needs_background": "light"
     },
     "output_type": "display_data"
    }
   ],
   "source": [
    "n = 10\n",
    "\n",
    "y = np.zeros((n,n))\n",
    "for i in range(n):\n",
    "    if i%2 == 0:\n",
    "        y[i,range(0,n,2)] = 1\n",
    "    else:\n",
    "        y[i,range(1,n+1,2)] = 1\n",
    "        \n",
    "y = y.reshape(-1)\n",
    "\n",
    "plt.figure(figsize=(5,5))\n",
    "plt.imshow(y.reshape(n,n), cmap='Greys',  interpolation='nearest')"
   ]
  },
  {
   "cell_type": "code",
   "execution_count": 10,
   "metadata": {},
   "outputs": [],
   "source": [
    "# each inner array represents the topogical relationship of a tile to the neighbouring tiles\n",
    "# Only considering the tiles are topologically related \n",
    "# when they are above, below, on the left or right hand side of the tile\n",
    "\n",
    "W = []\n",
    "\n",
    "for i in range(n):\n",
    "    for j in range(n):\n",
    "        \n",
    "        tmp_W = np.zeros((n,n))\n",
    "\n",
    "        if (j >= 1): tmp_W[i][j-1] = 1\n",
    "        if (j < n-1): tmp_W[i][j+1] = 2\n",
    "        if (i >= 1): tmp_W[i-1][j] = 3\n",
    "        if (i < n-1): tmp_W[i+1][j] = 4\n",
    "        \n",
    "        W.append(tmp_W.reshape(-1))\n",
    "\n",
    "W = np.array(W)"
   ]
  },
  {
   "cell_type": "code",
   "execution_count": 11,
   "metadata": {},
   "outputs": [
    {
     "name": "stdout",
     "output_type": "stream",
     "text": [
      "The expected value of Moran's I: -0.010101010101010102\n",
      "The variance of Moran's I: 0.006358553543113923\n",
      "Z score of Moran's I: -12.413999248415166\n"
     ]
    },
    {
     "data": {
      "image/png": "[encoded data removed]",
      "text/plain": [
       "<Figure size 432x288 with 1 Axes>"
      ]
     },
     "metadata": {
      "needs_background": "light"
     },
     "output_type": "display_data"
    }
   ],
   "source": [
    "moransI = get_moransI(W,y)\n",
    "hypothesis_testing(moransI, W, y)\n",
    "moransI_scatterplot(moransI, W, y)"
   ]
  },
  {
   "cell_type": "markdown",
   "metadata": {},
   "source": [
    "# Local Clustering"
   ]
  },
  {
   "cell_type": "code",
   "execution_count": 12,
   "metadata": {},
   "outputs": [
    {
     "data": {
      "text/plain": [
       "<matplotlib.image.AxesImage at 0x14c79bf08e0>"
      ]
     },
     "execution_count": 12,
     "metadata": {},
     "output_type": "execute_result"
    },
    {
     "data": {
      "image/png": "[encoded data removed]",
      "text/plain": [
       "<Figure size 720x720 with 1 Axes>"
      ]
     },
     "metadata": {
      "needs_background": "light"
     },
     "output_type": "display_data"
    }
   ],
   "source": [
    "# clustered \n",
    "n = 20\n",
    "\n",
    "y = np.random.randint(0,2,n*n).reshape(n,n)\n",
    "y[:10,:10] = 1\n",
    "\n",
    "y = y.reshape(-1)\n",
    "\n",
    "plt.figure(figsize=(10,10))\n",
    "plt.imshow(y.reshape(n,n), cmap='Greys',  interpolation='nearest')"
   ]
  },
  {
   "cell_type": "code",
   "execution_count": 13,
   "metadata": {},
   "outputs": [],
   "source": [
    "# each inner array represents the topogical relationship of a tile to the neighbouring tiles\n",
    "# Only considering the tiles are topologically related \n",
    "# when they are above, below, on the left or right hand side of the tile\n",
    "\n",
    "W = []\n",
    "\n",
    "for i in range(n):\n",
    "    for j in range(n):\n",
    "        \n",
    "        tmp_W = np.zeros((n,n))\n",
    "\n",
    "        if (j >= 1): tmp_W[i][j-1] = 1\n",
    "        if (j < n-1): tmp_W[i][j+1] = 2\n",
    "        if (i >= 1): tmp_W[i-1][j] = 3\n",
    "        if (i < n-1): tmp_W[i+1][j] = 4\n",
    "        \n",
    "        W.append(tmp_W.reshape(-1))\n",
    "\n",
    "W = np.array(W)"
   ]
  },
  {
   "cell_type": "code",
   "execution_count": 14,
   "metadata": {},
   "outputs": [
    {
     "name": "stdout",
     "output_type": "stream",
     "text": [
      "The expected value of Moran's I: -0.002506265664160401\n",
      "The variance of Moran's I: 0.0015196813699377605\n",
      "Z score of Moran's I: 3.9071408258665183\n"
     ]
    },
    {
     "data": {
      "image/png": "[encoded data removed]",
      "text/plain": [
       "<Figure size 432x288 with 1 Axes>"
      ]
     },
     "metadata": {
      "needs_background": "light"
     },
     "output_type": "display_data"
    }
   ],
   "source": [
    "moransI = get_moransI(W,y)\n",
    "hypothesis_testing(moransI, W, y)\n",
    "moransI_scatterplot(moransI, W, y)"
   ]
  },
  {
   "cell_type": "code",
   "execution_count": 15,
   "metadata": {
    "scrolled": false
   },
   "outputs": [
    {
     "data": {
      "text/html": [
       "<div>\n",
       "<style scoped>\n",
       "    .dataframe tbody tr th:only-of-type {\n",
       "        vertical-align: middle;\n",
       "    }\n",
       "\n",
       "    .dataframe tbody tr th {\n",
       "        vertical-align: top;\n",
       "    }\n",
       "\n",
       "    .dataframe thead th {\n",
       "        text-align: right;\n",
       "    }\n",
       "</style>\n",
       "<table border=\"1\" class=\"dataframe\">\n",
       "  <thead>\n",
       "    <tr style=\"text-align: right;\">\n",
       "      <th></th>\n",
       "      <th>y</th>\n",
       "      <th>loc</th>\n",
       "    </tr>\n",
       "  </thead>\n",
       "  <tbody>\n",
       "    <tr>\n",
       "      <th>0</th>\n",
       "      <td>1</td>\n",
       "      <td>(0, 0)</td>\n",
       "    </tr>\n",
       "    <tr>\n",
       "      <th>1</th>\n",
       "      <td>1</td>\n",
       "      <td>(0, 1)</td>\n",
       "    </tr>\n",
       "    <tr>\n",
       "      <th>2</th>\n",
       "      <td>1</td>\n",
       "      <td>(0, 2)</td>\n",
       "    </tr>\n",
       "    <tr>\n",
       "      <th>3</th>\n",
       "      <td>1</td>\n",
       "      <td>(0, 3)</td>\n",
       "    </tr>\n",
       "    <tr>\n",
       "      <th>4</th>\n",
       "      <td>1</td>\n",
       "      <td>(0, 4)</td>\n",
       "    </tr>\n",
       "    <tr>\n",
       "      <th>5</th>\n",
       "      <td>1</td>\n",
       "      <td>(0, 5)</td>\n",
       "    </tr>\n",
       "    <tr>\n",
       "      <th>6</th>\n",
       "      <td>1</td>\n",
       "      <td>(0, 6)</td>\n",
       "    </tr>\n",
       "    <tr>\n",
       "      <th>7</th>\n",
       "      <td>1</td>\n",
       "      <td>(0, 7)</td>\n",
       "    </tr>\n",
       "    <tr>\n",
       "      <th>8</th>\n",
       "      <td>1</td>\n",
       "      <td>(0, 8)</td>\n",
       "    </tr>\n",
       "    <tr>\n",
       "      <th>9</th>\n",
       "      <td>1</td>\n",
       "      <td>(0, 9)</td>\n",
       "    </tr>\n",
       "    <tr>\n",
       "      <th>10</th>\n",
       "      <td>0</td>\n",
       "      <td>(0, 10)</td>\n",
       "    </tr>\n",
       "    <tr>\n",
       "      <th>11</th>\n",
       "      <td>1</td>\n",
       "      <td>(0, 11)</td>\n",
       "    </tr>\n",
       "    <tr>\n",
       "      <th>12</th>\n",
       "      <td>0</td>\n",
       "      <td>(0, 12)</td>\n",
       "    </tr>\n",
       "    <tr>\n",
       "      <th>13</th>\n",
       "      <td>1</td>\n",
       "      <td>(0, 13)</td>\n",
       "    </tr>\n",
       "    <tr>\n",
       "      <th>14</th>\n",
       "      <td>0</td>\n",
       "      <td>(0, 14)</td>\n",
       "    </tr>\n",
       "    <tr>\n",
       "      <th>15</th>\n",
       "      <td>1</td>\n",
       "      <td>(0, 15)</td>\n",
       "    </tr>\n",
       "    <tr>\n",
       "      <th>16</th>\n",
       "      <td>1</td>\n",
       "      <td>(0, 16)</td>\n",
       "    </tr>\n",
       "    <tr>\n",
       "      <th>17</th>\n",
       "      <td>1</td>\n",
       "      <td>(0, 17)</td>\n",
       "    </tr>\n",
       "    <tr>\n",
       "      <th>18</th>\n",
       "      <td>1</td>\n",
       "      <td>(0, 18)</td>\n",
       "    </tr>\n",
       "    <tr>\n",
       "      <th>19</th>\n",
       "      <td>1</td>\n",
       "      <td>(0, 19)</td>\n",
       "    </tr>\n",
       "  </tbody>\n",
       "</table>\n",
       "</div>"
      ],
      "text/plain": [
       "    y      loc\n",
       "0   1   (0, 0)\n",
       "1   1   (0, 1)\n",
       "2   1   (0, 2)\n",
       "3   1   (0, 3)\n",
       "4   1   (0, 4)\n",
       "5   1   (0, 5)\n",
       "6   1   (0, 6)\n",
       "7   1   (0, 7)\n",
       "8   1   (0, 8)\n",
       "9   1   (0, 9)\n",
       "10  0  (0, 10)\n",
       "11  1  (0, 11)\n",
       "12  0  (0, 12)\n",
       "13  1  (0, 13)\n",
       "14  0  (0, 14)\n",
       "15  1  (0, 15)\n",
       "16  1  (0, 16)\n",
       "17  1  (0, 17)\n",
       "18  1  (0, 18)\n",
       "19  1  (0, 19)"
      ]
     },
     "execution_count": 15,
     "metadata": {},
     "output_type": "execute_result"
    }
   ],
   "source": [
    "Y = pd.DataFrame({'y':y})\n",
    "Y['loc'] = [str((i,j)) for i in range(20) for j in range(20)]\n",
    "Y.head(20)"
   ]
  },
  {
   "cell_type": "code",
   "execution_count": 16,
   "metadata": {},
   "outputs": [
    {
     "data": {
      "text/html": [
       "<div>\n",
       "<style scoped>\n",
       "    .dataframe tbody tr th:only-of-type {\n",
       "        vertical-align: middle;\n",
       "    }\n",
       "\n",
       "    .dataframe tbody tr th {\n",
       "        vertical-align: top;\n",
       "    }\n",
       "\n",
       "    .dataframe thead th {\n",
       "        text-align: right;\n",
       "    }\n",
       "</style>\n",
       "<table border=\"1\" class=\"dataframe\">\n",
       "  <thead>\n",
       "    <tr style=\"text-align: right;\">\n",
       "      <th></th>\n",
       "      <th>Name</th>\n",
       "      <th>LISA</th>\n",
       "      <th>E(Ii)</th>\n",
       "      <th>VAR(Ii)</th>\n",
       "      <th>Z Score</th>\n",
       "    </tr>\n",
       "  </thead>\n",
       "  <tbody>\n",
       "    <tr>\n",
       "      <th>0</th>\n",
       "      <td>(0, 0)</td>\n",
       "      <td>3.338521</td>\n",
       "      <td>-0.015038</td>\n",
       "      <td>1.048960</td>\n",
       "      <td>3.274360</td>\n",
       "    </tr>\n",
       "    <tr>\n",
       "      <th>1</th>\n",
       "      <td>(0, 1)</td>\n",
       "      <td>3.894942</td>\n",
       "      <td>-0.017544</td>\n",
       "      <td>1.051381</td>\n",
       "      <td>3.815687</td>\n",
       "    </tr>\n",
       "    <tr>\n",
       "      <th>2</th>\n",
       "      <td>(0, 2)</td>\n",
       "      <td>3.894942</td>\n",
       "      <td>-0.017544</td>\n",
       "      <td>1.051381</td>\n",
       "      <td>3.815687</td>\n",
       "    </tr>\n",
       "    <tr>\n",
       "      <th>3</th>\n",
       "      <td>(0, 3)</td>\n",
       "      <td>3.894942</td>\n",
       "      <td>-0.017544</td>\n",
       "      <td>1.051381</td>\n",
       "      <td>3.815687</td>\n",
       "    </tr>\n",
       "    <tr>\n",
       "      <th>4</th>\n",
       "      <td>(0, 4)</td>\n",
       "      <td>3.894942</td>\n",
       "      <td>-0.017544</td>\n",
       "      <td>1.051381</td>\n",
       "      <td>3.815687</td>\n",
       "    </tr>\n",
       "    <tr>\n",
       "      <th>...</th>\n",
       "      <td>...</td>\n",
       "      <td>...</td>\n",
       "      <td>...</td>\n",
       "      <td>...</td>\n",
       "      <td>...</td>\n",
       "    </tr>\n",
       "    <tr>\n",
       "      <th>395</th>\n",
       "      <td>(19, 15)</td>\n",
       "      <td>2.391608</td>\n",
       "      <td>-0.015038</td>\n",
       "      <td>1.033798</td>\n",
       "      <td>2.366979</td>\n",
       "    </tr>\n",
       "    <tr>\n",
       "      <th>396</th>\n",
       "      <td>(19, 16)</td>\n",
       "      <td>5.188811</td>\n",
       "      <td>-0.015038</td>\n",
       "      <td>1.033798</td>\n",
       "      <td>5.118078</td>\n",
       "    </tr>\n",
       "    <tr>\n",
       "      <th>397</th>\n",
       "      <td>(19, 17)</td>\n",
       "      <td>-2.887160</td>\n",
       "      <td>-0.015038</td>\n",
       "      <td>1.033948</td>\n",
       "      <td>-2.824577</td>\n",
       "    </tr>\n",
       "    <tr>\n",
       "      <th>398</th>\n",
       "      <td>(19, 18)</td>\n",
       "      <td>3.338521</td>\n",
       "      <td>-0.015038</td>\n",
       "      <td>1.033948</td>\n",
       "      <td>3.298045</td>\n",
       "    </tr>\n",
       "    <tr>\n",
       "      <th>399</th>\n",
       "      <td>(19, 19)</td>\n",
       "      <td>-2.443580</td>\n",
       "      <td>-0.010025</td>\n",
       "      <td>1.024066</td>\n",
       "      <td>-2.404790</td>\n",
       "    </tr>\n",
       "  </tbody>\n",
       "</table>\n",
       "<p>400 rows × 5 columns</p>\n",
       "</div>"
      ],
      "text/plain": [
       "         Name      LISA     E(Ii)   VAR(Ii)   Z Score\n",
       "0      (0, 0)  3.338521 -0.015038  1.048960  3.274360\n",
       "1      (0, 1)  3.894942 -0.017544  1.051381  3.815687\n",
       "2      (0, 2)  3.894942 -0.017544  1.051381  3.815687\n",
       "3      (0, 3)  3.894942 -0.017544  1.051381  3.815687\n",
       "4      (0, 4)  3.894942 -0.017544  1.051381  3.815687\n",
       "..        ...       ...       ...       ...       ...\n",
       "395  (19, 15)  2.391608 -0.015038  1.033798  2.366979\n",
       "396  (19, 16)  5.188811 -0.015038  1.033798  5.118078\n",
       "397  (19, 17) -2.887160 -0.015038  1.033948 -2.824577\n",
       "398  (19, 18)  3.338521 -0.015038  1.033948  3.298045\n",
       "399  (19, 19) -2.443580 -0.010025  1.024066 -2.404790\n",
       "\n",
       "[400 rows x 5 columns]"
      ]
     },
     "execution_count": 16,
     "metadata": {},
     "output_type": "execute_result"
    }
   ],
   "source": [
    "localMoransI = get_localMoransI(W, Y['y'], Y['loc'])\n",
    "localMoransI"
   ]
  },
  {
   "cell_type": "code",
   "execution_count": 17,
   "metadata": {},
   "outputs": [
    {
     "data": {
      "image/png": "[encoded data removed]",
      "text/plain": [
       "<Figure size 432x288 with 1 Axes>"
      ]
     },
     "metadata": {
      "needs_background": "light"
     },
     "output_type": "display_data"
    }
   ],
   "source": [
    "LISA_scatterplot(moransI, W, y ,localMoransI)"
   ]
  },
  {
   "cell_type": "code",
   "execution_count": null,
   "metadata": {},
   "outputs": [],
   "source": []
  }
 ],
 "metadata": {
  "kernelspec": {
   "display_name": "Python 3",
   "language": "python",
   "name": "python3"
  },
  "language_info": {
   "codemirror_mode": {
    "name": "ipython",
    "version": 3
   },
   "file_extension": ".py",
   "mimetype": "text/x-python",
   "name": "python",
   "nbconvert_exporter": "python",
   "pygments_lexer": "ipython3",
   "version": "3.8.5"
  }
 },
 "nbformat": 4,
 "nbformat_minor": 4
}
